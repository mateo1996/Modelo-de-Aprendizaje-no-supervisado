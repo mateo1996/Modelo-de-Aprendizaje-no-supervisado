{
 "cells": [
  {
   "cell_type": "markdown",
   "id": "398807d2-5b49-44fc-9b7d-0957b7d3d1f5",
   "metadata": {},
   "source": [
    "<h1>Modelo de aprendizaje no supervisado: K - Means</h1>"
   ]
  },
  {
   "cell_type": "markdown",
   "id": "f71f9903-25e2-4997-b87f-c993d6dbf0a5",
   "metadata": {},
   "source": [
    "<h3>Usted es dueño del centro comercial y desea comprender a los clientes como quiénes pueden converger fácilmente [Clientes objetivo] para poder darle esa idea al equipo de marketing y planificar la estrategia en consecuencia.</h3>"
   ]
  },
  {
   "cell_type": "markdown",
   "id": "2ff15f5a-b332-4c29-802a-3dc960d8f00d",
   "metadata": {},
   "source": [
    "<h3>Estudiantes:</h3>\n",
    "<h4>Cristian Mateo Samboni Muñoz</h4>\n",
    "<h4>Linda Katerin Rodriguez Moya</h4>\n",
    "<h4>Deninson Alexander Chamorro Rueda</h4>"
   ]
  },
  {
   "cell_type": "markdown",
   "id": "dec16d4e-2b3c-4215-aab8-f4ddfbdc48bf",
   "metadata": {},
   "source": [
    "<h3>Procedemos a importar las librerias y a declararles variables de llamado</h3>"
   ]
  },
  {
   "cell_type": "code",
   "execution_count": 26,
   "id": "aed40756-48c2-4c73-8439-bf551510407b",
   "metadata": {},
   "outputs": [],
   "source": [
    "import pandas as pd # Manejo y analisis de datos\n",
    "import numpy as np # Calculos numericos y analisis\n",
    "import seaborn as sns # Grafias estadisticas\n",
    "import matplotlib.pyplot as plt # Graficas 2D\n",
    "import plotly.graph_objs as go # Graficas 3D\n",
    "import plotly.express as px # Graficas 3D\n",
    "\n",
    "# Función especifica de la libreria para K-Means  \n",
    "from sklearn.cluster import KMeans\n",
    "from sklearn.preprocessing import LabelEncoder\n",
    "\n",
    "# Función especifica de la libreria para evaluar el modelo\n",
    "from sklearn.metrics import silhouette_score, calinski_harabasz_score, davies_bouldin_score\n",
    "\n",
    "# Función especifica de la libreria para evitar alerta de demaciado uso de memoria\n",
    "import warnings \n",
    "warnings.filterwarnings (\"ignore\")"
   ]
  },
  {
   "cell_type": "markdown",
   "id": "84d86325-9c35-430b-8a54-1a66233b6888",
   "metadata": {},
   "source": [
    "<h3>Procedemos a realizar el llamado de la base de datos y a realizar su lectura</h3>"
   ]
  },
  {
   "cell_type": "code",
   "execution_count": 28,
   "id": "a5d30ccc-3d4d-4c5f-9302-fac2ad88a4f6",
   "metadata": {},
   "outputs": [],
   "source": [
    "Datos = pd.read_csv(\"D:/Mall_Customers.csv\")"
   ]
  },
  {
   "cell_type": "code",
   "execution_count": 30,
   "id": "15d9f31b-2d45-4ce7-b566-f5fd42ed2c9d",
   "metadata": {},
   "outputs": [
    {
     "data": {
      "text/html": [
       "<div>\n",
       "<style scoped>\n",
       "    .dataframe tbody tr th:only-of-type {\n",
       "        vertical-align: middle;\n",
       "    }\n",
       "\n",
       "    .dataframe tbody tr th {\n",
       "        vertical-align: top;\n",
       "    }\n",
       "\n",
       "    .dataframe thead th {\n",
       "        text-align: right;\n",
       "    }\n",
       "</style>\n",
       "<table border=\"1\" class=\"dataframe\">\n",
       "  <thead>\n",
       "    <tr style=\"text-align: right;\">\n",
       "      <th></th>\n",
       "      <th>CustomerID</th>\n",
       "      <th>Gender</th>\n",
       "      <th>Age</th>\n",
       "      <th>Annual Income (k$)</th>\n",
       "      <th>Spending Score (1-100)</th>\n",
       "    </tr>\n",
       "  </thead>\n",
       "  <tbody>\n",
       "    <tr>\n",
       "      <th>0</th>\n",
       "      <td>1</td>\n",
       "      <td>Male</td>\n",
       "      <td>19</td>\n",
       "      <td>15</td>\n",
       "      <td>39</td>\n",
       "    </tr>\n",
       "    <tr>\n",
       "      <th>1</th>\n",
       "      <td>2</td>\n",
       "      <td>Male</td>\n",
       "      <td>21</td>\n",
       "      <td>15</td>\n",
       "      <td>81</td>\n",
       "    </tr>\n",
       "    <tr>\n",
       "      <th>2</th>\n",
       "      <td>3</td>\n",
       "      <td>Female</td>\n",
       "      <td>20</td>\n",
       "      <td>16</td>\n",
       "      <td>6</td>\n",
       "    </tr>\n",
       "    <tr>\n",
       "      <th>3</th>\n",
       "      <td>4</td>\n",
       "      <td>Female</td>\n",
       "      <td>23</td>\n",
       "      <td>16</td>\n",
       "      <td>77</td>\n",
       "    </tr>\n",
       "    <tr>\n",
       "      <th>4</th>\n",
       "      <td>5</td>\n",
       "      <td>Female</td>\n",
       "      <td>31</td>\n",
       "      <td>17</td>\n",
       "      <td>40</td>\n",
       "    </tr>\n",
       "    <tr>\n",
       "      <th>5</th>\n",
       "      <td>6</td>\n",
       "      <td>Female</td>\n",
       "      <td>22</td>\n",
       "      <td>17</td>\n",
       "      <td>76</td>\n",
       "    </tr>\n",
       "    <tr>\n",
       "      <th>6</th>\n",
       "      <td>7</td>\n",
       "      <td>Female</td>\n",
       "      <td>35</td>\n",
       "      <td>18</td>\n",
       "      <td>6</td>\n",
       "    </tr>\n",
       "    <tr>\n",
       "      <th>7</th>\n",
       "      <td>8</td>\n",
       "      <td>Female</td>\n",
       "      <td>23</td>\n",
       "      <td>18</td>\n",
       "      <td>94</td>\n",
       "    </tr>\n",
       "    <tr>\n",
       "      <th>8</th>\n",
       "      <td>9</td>\n",
       "      <td>Male</td>\n",
       "      <td>64</td>\n",
       "      <td>19</td>\n",
       "      <td>3</td>\n",
       "    </tr>\n",
       "    <tr>\n",
       "      <th>9</th>\n",
       "      <td>10</td>\n",
       "      <td>Female</td>\n",
       "      <td>30</td>\n",
       "      <td>19</td>\n",
       "      <td>72</td>\n",
       "    </tr>\n",
       "  </tbody>\n",
       "</table>\n",
       "</div>"
      ],
      "text/plain": [
       "   CustomerID  Gender  Age  Annual Income (k$)  Spending Score (1-100)\n",
       "0           1    Male   19                  15                      39\n",
       "1           2    Male   21                  15                      81\n",
       "2           3  Female   20                  16                       6\n",
       "3           4  Female   23                  16                      77\n",
       "4           5  Female   31                  17                      40\n",
       "5           6  Female   22                  17                      76\n",
       "6           7  Female   35                  18                       6\n",
       "7           8  Female   23                  18                      94\n",
       "8           9    Male   64                  19                       3\n",
       "9          10  Female   30                  19                      72"
      ]
     },
     "execution_count": 30,
     "metadata": {},
     "output_type": "execute_result"
    }
   ],
   "source": [
    "Datos.head(10)"
   ]
  },
  {
   "cell_type": "markdown",
   "id": "3158c14c-4f4d-43cf-a2e0-58e5c2ca6129",
   "metadata": {},
   "source": [
    "<h3>Ahora miramos una descripción de los datos como la media, los percentiles y los datos minimos y maximos</h3>"
   ]
  },
  {
   "cell_type": "code",
   "execution_count": 32,
   "id": "c941982c-78f3-4e6c-9cb4-265a3deb70e0",
   "metadata": {},
   "outputs": [
    {
     "data": {
      "text/html": [
       "<div>\n",
       "<style scoped>\n",
       "    .dataframe tbody tr th:only-of-type {\n",
       "        vertical-align: middle;\n",
       "    }\n",
       "\n",
       "    .dataframe tbody tr th {\n",
       "        vertical-align: top;\n",
       "    }\n",
       "\n",
       "    .dataframe thead th {\n",
       "        text-align: right;\n",
       "    }\n",
       "</style>\n",
       "<table border=\"1\" class=\"dataframe\">\n",
       "  <thead>\n",
       "    <tr style=\"text-align: right;\">\n",
       "      <th></th>\n",
       "      <th>CustomerID</th>\n",
       "      <th>Age</th>\n",
       "      <th>Annual Income (k$)</th>\n",
       "      <th>Spending Score (1-100)</th>\n",
       "    </tr>\n",
       "  </thead>\n",
       "  <tbody>\n",
       "    <tr>\n",
       "      <th>count</th>\n",
       "      <td>200.000000</td>\n",
       "      <td>200.000000</td>\n",
       "      <td>200.000000</td>\n",
       "      <td>200.000000</td>\n",
       "    </tr>\n",
       "    <tr>\n",
       "      <th>mean</th>\n",
       "      <td>100.500000</td>\n",
       "      <td>38.850000</td>\n",
       "      <td>60.560000</td>\n",
       "      <td>50.200000</td>\n",
       "    </tr>\n",
       "    <tr>\n",
       "      <th>std</th>\n",
       "      <td>57.879185</td>\n",
       "      <td>13.969007</td>\n",
       "      <td>26.264721</td>\n",
       "      <td>25.823522</td>\n",
       "    </tr>\n",
       "    <tr>\n",
       "      <th>min</th>\n",
       "      <td>1.000000</td>\n",
       "      <td>18.000000</td>\n",
       "      <td>15.000000</td>\n",
       "      <td>1.000000</td>\n",
       "    </tr>\n",
       "    <tr>\n",
       "      <th>25%</th>\n",
       "      <td>50.750000</td>\n",
       "      <td>28.750000</td>\n",
       "      <td>41.500000</td>\n",
       "      <td>34.750000</td>\n",
       "    </tr>\n",
       "    <tr>\n",
       "      <th>50%</th>\n",
       "      <td>100.500000</td>\n",
       "      <td>36.000000</td>\n",
       "      <td>61.500000</td>\n",
       "      <td>50.000000</td>\n",
       "    </tr>\n",
       "    <tr>\n",
       "      <th>75%</th>\n",
       "      <td>150.250000</td>\n",
       "      <td>49.000000</td>\n",
       "      <td>78.000000</td>\n",
       "      <td>73.000000</td>\n",
       "    </tr>\n",
       "    <tr>\n",
       "      <th>max</th>\n",
       "      <td>200.000000</td>\n",
       "      <td>70.000000</td>\n",
       "      <td>137.000000</td>\n",
       "      <td>99.000000</td>\n",
       "    </tr>\n",
       "  </tbody>\n",
       "</table>\n",
       "</div>"
      ],
      "text/plain": [
       "       CustomerID         Age  Annual Income (k$)  Spending Score (1-100)\n",
       "count  200.000000  200.000000          200.000000              200.000000\n",
       "mean   100.500000   38.850000           60.560000               50.200000\n",
       "std     57.879185   13.969007           26.264721               25.823522\n",
       "min      1.000000   18.000000           15.000000                1.000000\n",
       "25%     50.750000   28.750000           41.500000               34.750000\n",
       "50%    100.500000   36.000000           61.500000               50.000000\n",
       "75%    150.250000   49.000000           78.000000               73.000000\n",
       "max    200.000000   70.000000          137.000000               99.000000"
      ]
     },
     "execution_count": 32,
     "metadata": {},
     "output_type": "execute_result"
    }
   ],
   "source": [
    "# Descripción de los datos \n",
    "Datos.describe()"
   ]
  },
  {
   "cell_type": "markdown",
   "id": "096d5bf3-aa83-471f-93e6-6bfff1ccb02f",
   "metadata": {},
   "source": [
    "<h3>Ahora procedemos a buscar datos atipicos</h3>"
   ]
  },
  {
   "cell_type": "code",
   "execution_count": 50,
   "id": "0b3b065a-086c-43bd-8769-efe7cfc70b09",
   "metadata": {},
   "outputs": [
    {
     "data": {
      "text/plain": [
       "Text(0.5, 1.0, 'Datos atipicos de los clientes (Puntaje Cliente segun sus gastos)')"
      ]
     },
     "execution_count": 50,
     "metadata": {},
     "output_type": "execute_result"
    },
    {
     "data": {
      "image/png": "[encoded data removed]",
      "text/plain": [
       "<Figure size 600x300 with 1 Axes>"
      ]
     },
     "metadata": {},
     "output_type": "display_data"
    },
    {
     "data": {
      "image/png": "[encoded data removed]",
      "text/plain": [
       "<Figure size 600x300 with 1 Axes>"
      ]
     },
     "metadata": {},
     "output_type": "display_data"
    },
    {
     "data": {
      "image/png": "[encoded data removed]",
      "text/plain": [
       "<Figure size 600x300 with 1 Axes>"
      ]
     },
     "metadata": {},
     "output_type": "display_data"
    }
   ],
   "source": [
    "# Identificación de datos atipicos\n",
    "\n",
    "# Edad\n",
    "plt.figure(figsize=(6, 3))\n",
    "sns.boxplot(x=Datos['Age'])\n",
    "plt.title('Datos atipicos de los clientes (Edad)', fontsize=10)\n",
    "\n",
    "# Salario Anual\n",
    "plt.figure(figsize=(6, 3))\n",
    "sns.boxplot(x=Datos['Annual Income (k$)'])\n",
    "plt.title('Datos atipicos de los clientes (Salario anual)', fontsize=10)\n",
    "\n",
    "# Puntaje del cliente segun sus gastos\n",
    "plt.figure(figsize=(6, 3))\n",
    "sns.boxplot(x=Datos['Spending Score (1-100)'])\n",
    "plt.title('Datos atipicos de los clientes (Puntaje Cliente segun sus gastos)', fontsize=10)"
   ]
  },
  {
   "cell_type": "code",
   "execution_count": 66,
   "id": "e944d481-b6c9-4062-9eda-ab835ec48a41",
   "metadata": {},
   "outputs": [
    {
     "name": "stdout",
     "output_type": "stream",
     "text": [
      "Cantidad de datos con valor cero en edad:  0\n",
      "Cantidad de datos con valores mayores a 100 años 0\n",
      "Cantidad de datos con valor cero en Salario Anual 0\n",
      "Cantidad de datos con valor cero en Puntaje Cliente segun sus gastos 0\n",
      "Cantidad de datos con valores mayores a 100 en puntaje de cliente segun sus gastos 0\n"
     ]
    }
   ],
   "source": [
    "print(\"Cantidad de datos con valor cero en edad: \", Datos[\"Age\"].isin([0]).sum())\n",
    "edad = (Datos[\"Age\"]>100).sum()\n",
    "print(\"Cantidad de datos con valores mayores a 100 años\", edad)\n",
    "\n",
    "print(\"Cantidad de datos con valor cero en Salario Anual\", Datos[\"Annual Income (k$)\"].isin([0]).sum())\n",
    "\n",
    "print(\"Cantidad de datos con valor cero en Puntaje Cliente segun sus gastos\", Datos[\"Spending Score (1-100)\"].isin([0]).sum())\n",
    "\n",
    "puntaje = (Datos[\"Spending Score (1-100)\"]>101).sum()\n",
    "print(\"Cantidad de datos con valores mayores a 100 en puntaje de cliente segun sus gastos\", puntaje)"
   ]
  },
  {
   "cell_type": "markdown",
   "id": "55f388ea-ffc9-4c72-a0a0-5ae01784a5e1",
   "metadata": {},
   "source": [
    "<h3>Ahora procederemos a buscar valores nulos o faltantes</h3>"
   ]
  },
  {
   "cell_type": "code",
   "execution_count": 70,
   "id": "24b25bf5-66b7-46ab-81dc-9d6495c92aa6",
   "metadata": {},
   "outputs": [
    {
     "name": "stdout",
     "output_type": "stream",
     "text": [
      "<class 'pandas.core.frame.DataFrame'>\n",
      "RangeIndex: 200 entries, 0 to 199\n",
      "Data columns (total 5 columns):\n",
      " #   Column                  Non-Null Count  Dtype \n",
      "---  ------                  --------------  ----- \n",
      " 0   CustomerID              200 non-null    int64 \n",
      " 1   Gender                  200 non-null    object\n",
      " 2   Age                     200 non-null    int64 \n",
      " 3   Annual Income (k$)      200 non-null    int64 \n",
      " 4   Spending Score (1-100)  200 non-null    int64 \n",
      "dtypes: int64(4), object(1)\n",
      "memory usage: 7.9+ KB\n"
     ]
    }
   ],
   "source": [
    "# Revisamos datos nulos o faltantes\n",
    "Datos.info()"
   ]
  },
  {
   "cell_type": "markdown",
   "id": "7d711ec0-f4f9-4ea9-921a-2eb769f22a21",
   "metadata": {},
   "source": [
    "<h3>Procederemos a seleccionar las variables que usaremos en el modelo</h3>"
   ]
  },
  {
   "cell_type": "code",
   "execution_count": 222,
   "id": "4f2b2fc2-cde6-4c44-a8f3-5eabc60e2573",
   "metadata": {},
   "outputs": [],
   "source": [
    "# Seleccionamos las columnas de los datos que usaremos \n",
    "Datos_usar = Datos[[\"Annual Income (k$)\",\"Spending Score (1-100)\"]]"
   ]
  },
  {
   "cell_type": "markdown",
   "id": "ea0fe5d5-f413-43a8-bbdb-2a332d6bacd9",
   "metadata": {},
   "source": [
    "<h3>Ahora revisamos la nueva base de datos con las variables ya seleccionadas</h3>"
   ]
  },
  {
   "cell_type": "code",
   "execution_count": 224,
   "id": "9ecfeee2-1d8e-467a-b288-33cb8a0f20cd",
   "metadata": {},
   "outputs": [
    {
     "data": {
      "text/html": [
       "<div>\n",
       "<style scoped>\n",
       "    .dataframe tbody tr th:only-of-type {\n",
       "        vertical-align: middle;\n",
       "    }\n",
       "\n",
       "    .dataframe tbody tr th {\n",
       "        vertical-align: top;\n",
       "    }\n",
       "\n",
       "    .dataframe thead th {\n",
       "        text-align: right;\n",
       "    }\n",
       "</style>\n",
       "<table border=\"1\" class=\"dataframe\">\n",
       "  <thead>\n",
       "    <tr style=\"text-align: right;\">\n",
       "      <th></th>\n",
       "      <th>Annual Income (k$)</th>\n",
       "      <th>Spending Score (1-100)</th>\n",
       "    </tr>\n",
       "  </thead>\n",
       "  <tbody>\n",
       "    <tr>\n",
       "      <th>0</th>\n",
       "      <td>15</td>\n",
       "      <td>39</td>\n",
       "    </tr>\n",
       "    <tr>\n",
       "      <th>1</th>\n",
       "      <td>15</td>\n",
       "      <td>81</td>\n",
       "    </tr>\n",
       "    <tr>\n",
       "      <th>2</th>\n",
       "      <td>16</td>\n",
       "      <td>6</td>\n",
       "    </tr>\n",
       "    <tr>\n",
       "      <th>3</th>\n",
       "      <td>16</td>\n",
       "      <td>77</td>\n",
       "    </tr>\n",
       "    <tr>\n",
       "      <th>4</th>\n",
       "      <td>17</td>\n",
       "      <td>40</td>\n",
       "    </tr>\n",
       "    <tr>\n",
       "      <th>5</th>\n",
       "      <td>17</td>\n",
       "      <td>76</td>\n",
       "    </tr>\n",
       "    <tr>\n",
       "      <th>6</th>\n",
       "      <td>18</td>\n",
       "      <td>6</td>\n",
       "    </tr>\n",
       "    <tr>\n",
       "      <th>7</th>\n",
       "      <td>18</td>\n",
       "      <td>94</td>\n",
       "    </tr>\n",
       "    <tr>\n",
       "      <th>8</th>\n",
       "      <td>19</td>\n",
       "      <td>3</td>\n",
       "    </tr>\n",
       "    <tr>\n",
       "      <th>9</th>\n",
       "      <td>19</td>\n",
       "      <td>72</td>\n",
       "    </tr>\n",
       "  </tbody>\n",
       "</table>\n",
       "</div>"
      ],
      "text/plain": [
       "   Annual Income (k$)  Spending Score (1-100)\n",
       "0                  15                      39\n",
       "1                  15                      81\n",
       "2                  16                       6\n",
       "3                  16                      77\n",
       "4                  17                      40\n",
       "5                  17                      76\n",
       "6                  18                       6\n",
       "7                  18                      94\n",
       "8                  19                       3\n",
       "9                  19                      72"
      ]
     },
     "execution_count": 224,
     "metadata": {},
     "output_type": "execute_result"
    }
   ],
   "source": [
    "# Revisamos la seleccion de columnas \n",
    "Datos_usar.head(10)"
   ]
  },
  {
   "cell_type": "markdown",
   "id": "aa21f726-b346-48de-87ed-be1fd65729ef",
   "metadata": {},
   "source": [
    "<h3>Graficamos los datos antes de clasificarlos por grupos</h3>"
   ]
  },
  {
   "cell_type": "code",
   "execution_count": 226,
   "id": "a42654c2-a82c-4fad-a6f2-927fd1f88107",
   "metadata": {},
   "outputs": [
    {
     "data": {
      "image/png": "[encoded data removed]",
      "text/plain": [
       "<Figure size 640x480 with 1 Axes>"
      ]
     },
     "metadata": {},
     "output_type": "display_data"
    }
   ],
   "source": [
    "# Graficamos antes de agrupar\n",
    "plt.scatter(Datos_usar[\"Annual Income (k$)\"], Datos_usar[\"Spending Score (1-100)\"])\n",
    "plt.xlabel(\"Salario Anual\")\n",
    "plt.ylabel(\"Puntaje del Cliente Segun sus Compras\")\n",
    "plt.title(\"Grupos de Clientes\")\n",
    "plt.show()"
   ]
  },
  {
   "cell_type": "markdown",
   "id": "17b65ad4-1699-4f17-9401-50472b854913",
   "metadata": {},
   "source": [
    "<h3>Ahora procederemos a realizar una grafia de codo con el fin de determinar cual es el numero de grupos mas apropiado</h3>"
   ]
  },
  {
   "cell_type": "markdown",
   "id": "611b0ab1-4ea2-4e14-8816-889388322811",
   "metadata": {},
   "source": [
    "<h5>Para seleccionar el numero de grupos mas apropiado para el grupo, debemos visualizar en el grafico los valores mas cercanos</h5>"
   ]
  },
  {
   "cell_type": "code",
   "execution_count": 287,
   "id": "2fa3aefc-c25f-400c-9177-96acb92f2cd1",
   "metadata": {},
   "outputs": [
    {
     "data": {
      "image/png": "[encoded data removed]",
      "text/plain": [
       "<Figure size 640x480 with 1 Axes>"
      ]
     },
     "metadata": {},
     "output_type": "display_data"
    }
   ],
   "source": [
    "# Se realiza la grafica de codo con el fin de identificar el valor de K \n",
    "nc= range(1, 9)\n",
    "kmeans = [KMeans(n_clusters=i) for i in nc]\n",
    "kmeans\n",
    "\n",
    "score = [kmeans[i].fit(Datos_usar).score(Datos_usar) for i in range(len(kmeans))]\n",
    "score\n",
    "\n",
    "plt.plot(nc, score, marker = \"o\")\n",
    "plt.xlabel(\"Numero de grupos o clusters\")\n",
    "plt.ylabel(\"Score\")\n",
    "plt.title(\"Grafica de Codo\")\n",
    "plt.show()"
   ]
  },
  {
   "cell_type": "markdown",
   "id": "8460c033-8a00-40ab-b76a-70f316ab6c25",
   "metadata": {},
   "source": [
    "<h3>Como se puede observar, el valor con menor espacio entre si es el 5</h3>\n",
    "<h3>Procederemos a crear la agrupación en el modelo y creamos el modelo</h3>"
   ]
  },
  {
   "cell_type": "code",
   "execution_count": 264,
   "id": "bc7e5f23-87d2-4ea6-81c3-56985e6c111f",
   "metadata": {},
   "outputs": [
    {
     "data": {
      "text/html": [
       "<style>#sk-container-id-21 {\n",
       "  /* Definition of color scheme common for light and dark mode */\n",
       "  --sklearn-color-text: black;\n",
       "  --sklearn-color-line: gray;\n",
       "  /* Definition of color scheme for unfitted estimators */\n",
       "  --sklearn-color-unfitted-level-0: #fff5e6;\n",
       "  --sklearn-color-unfitted-level-1: #f6e4d2;\n",
       "  --sklearn-color-unfitted-level-2: #ffe0b3;\n",
       "  --sklearn-color-unfitted-level-3: chocolate;\n",
       "  /* Definition of color scheme for fitted estimators */\n",
       "  --sklearn-color-fitted-level-0: #f0f8ff;\n",
       "  --sklearn-color-fitted-level-1: #d4ebff;\n",
       "  --sklearn-color-fitted-level-2: #b3dbfd;\n",
       "  --sklearn-color-fitted-level-3: cornflowerblue;\n",
       "\n",
       "  /* Specific color for light theme */\n",
       "  --sklearn-color-text-on-default-background: var(--sg-text-color, var(--theme-code-foreground, var(--jp-content-font-color1, black)));\n",
       "  --sklearn-color-background: var(--sg-background-color, var(--theme-background, var(--jp-layout-color0, white)));\n",
       "  --sklearn-color-border-box: var(--sg-text-color, var(--theme-code-foreground, var(--jp-content-font-color1, black)));\n",
       "  --sklearn-color-icon: #696969;\n",
       "\n",
       "  @media (prefers-color-scheme: dark) {\n",
       "    /* Redefinition of color scheme for dark theme */\n",
       "    --sklearn-color-text-on-default-background: var(--sg-text-color, var(--theme-code-foreground, var(--jp-content-font-color1, white)));\n",
       "    --sklearn-color-background: var(--sg-background-color, var(--theme-background, var(--jp-layout-color0, #111)));\n",
       "    --sklearn-color-border-box: var(--sg-text-color, var(--theme-code-foreground, var(--jp-content-font-color1, white)));\n",
       "    --sklearn-color-icon: #878787;\n",
       "  }\n",
       "}\n",
       "\n",
       "#sk-container-id-21 {\n",
       "  color: var(--sklearn-color-text);\n",
       "}\n",
       "\n",
       "#sk-container-id-21 pre {\n",
       "  padding: 0;\n",
       "}\n",
       "\n",
       "#sk-container-id-21 input.sk-hidden--visually {\n",
       "  border: 0;\n",
       "  clip: rect(1px 1px 1px 1px);\n",
       "  clip: rect(1px, 1px, 1px, 1px);\n",
       "  height: 1px;\n",
       "  margin: -1px;\n",
       "  overflow: hidden;\n",
       "  padding: 0;\n",
       "  position: absolute;\n",
       "  width: 1px;\n",
       "}\n",
       "\n",
       "#sk-container-id-21 div.sk-dashed-wrapped {\n",
       "  border: 1px dashed var(--sklearn-color-line);\n",
       "  margin: 0 0.4em 0.5em 0.4em;\n",
       "  box-sizing: border-box;\n",
       "  padding-bottom: 0.4em;\n",
       "  background-color: var(--sklearn-color-background);\n",
       "}\n",
       "\n",
       "#sk-container-id-21 div.sk-container {\n",
       "  /* jupyter's `normalize.less` sets `[hidden] { display: none; }`\n",
       "     but bootstrap.min.css set `[hidden] { display: none !important; }`\n",
       "     so we also need the `!important` here to be able to override the\n",
       "     default hidden behavior on the sphinx rendered scikit-learn.org.\n",
       "     See: https://github.com/scikit-learn/scikit-learn/issues/21755 */\n",
       "  display: inline-block !important;\n",
       "  position: relative;\n",
       "}\n",
       "\n",
       "#sk-container-id-21 div.sk-text-repr-fallback {\n",
       "  display: none;\n",
       "}\n",
       "\n",
       "div.sk-parallel-item,\n",
       "div.sk-serial,\n",
       "div.sk-item {\n",
       "  /* draw centered vertical line to link estimators */\n",
       "  background-image: linear-gradient(var(--sklearn-color-text-on-default-background), var(--sklearn-color-text-on-default-background));\n",
       "  background-size: 2px 100%;\n",
       "  background-repeat: no-repeat;\n",
       "  background-position: center center;\n",
       "}\n",
       "\n",
       "/* Parallel-specific style estimator block */\n",
       "\n",
       "#sk-container-id-21 div.sk-parallel-item::after {\n",
       "  content: \"\";\n",
       "  width: 100%;\n",
       "  border-bottom: 2px solid var(--sklearn-color-text-on-default-background);\n",
       "  flex-grow: 1;\n",
       "}\n",
       "\n",
       "#sk-container-id-21 div.sk-parallel {\n",
       "  display: flex;\n",
       "  align-items: stretch;\n",
       "  justify-content: center;\n",
       "  background-color: var(--sklearn-color-background);\n",
       "  position: relative;\n",
       "}\n",
       "\n",
       "#sk-container-id-21 div.sk-parallel-item {\n",
       "  display: flex;\n",
       "  flex-direction: column;\n",
       "}\n",
       "\n",
       "#sk-container-id-21 div.sk-parallel-item:first-child::after {\n",
       "  align-self: flex-end;\n",
       "  width: 50%;\n",
       "}\n",
       "\n",
       "#sk-container-id-21 div.sk-parallel-item:last-child::after {\n",
       "  align-self: flex-start;\n",
       "  width: 50%;\n",
       "}\n",
       "\n",
       "#sk-container-id-21 div.sk-parallel-item:only-child::after {\n",
       "  width: 0;\n",
       "}\n",
       "\n",
       "/* Serial-specific style estimator block */\n",
       "\n",
       "#sk-container-id-21 div.sk-serial {\n",
       "  display: flex;\n",
       "  flex-direction: column;\n",
       "  align-items: center;\n",
       "  background-color: var(--sklearn-color-background);\n",
       "  padding-right: 1em;\n",
       "  padding-left: 1em;\n",
       "}\n",
       "\n",
       "\n",
       "/* Toggleable style: style used for estimator/Pipeline/ColumnTransformer box that is\n",
       "clickable and can be expanded/collapsed.\n",
       "- Pipeline and ColumnTransformer use this feature and define the default style\n",
       "- Estimators will overwrite some part of the style using the `sk-estimator` class\n",
       "*/\n",
       "\n",
       "/* Pipeline and ColumnTransformer style (default) */\n",
       "\n",
       "#sk-container-id-21 div.sk-toggleable {\n",
       "  /* Default theme specific background. It is overwritten whether we have a\n",
       "  specific estimator or a Pipeline/ColumnTransformer */\n",
       "  background-color: var(--sklearn-color-background);\n",
       "}\n",
       "\n",
       "/* Toggleable label */\n",
       "#sk-container-id-21 label.sk-toggleable__label {\n",
       "  cursor: pointer;\n",
       "  display: block;\n",
       "  width: 100%;\n",
       "  margin-bottom: 0;\n",
       "  padding: 0.5em;\n",
       "  box-sizing: border-box;\n",
       "  text-align: center;\n",
       "}\n",
       "\n",
       "#sk-container-id-21 label.sk-toggleable__label-arrow:before {\n",
       "  /* Arrow on the left of the label */\n",
       "  content: \"▸\";\n",
       "  float: left;\n",
       "  margin-right: 0.25em;\n",
       "  color: var(--sklearn-color-icon);\n",
       "}\n",
       "\n",
       "#sk-container-id-21 label.sk-toggleable__label-arrow:hover:before {\n",
       "  color: var(--sklearn-color-text);\n",
       "}\n",
       "\n",
       "/* Toggleable content - dropdown */\n",
       "\n",
       "#sk-container-id-21 div.sk-toggleable__content {\n",
       "  max-height: 0;\n",
       "  max-width: 0;\n",
       "  overflow: hidden;\n",
       "  text-align: left;\n",
       "  /* unfitted */\n",
       "  background-color: var(--sklearn-color-unfitted-level-0);\n",
       "}\n",
       "\n",
       "#sk-container-id-21 div.sk-toggleable__content.fitted {\n",
       "  /* fitted */\n",
       "  background-color: var(--sklearn-color-fitted-level-0);\n",
       "}\n",
       "\n",
       "#sk-container-id-21 div.sk-toggleable__content pre {\n",
       "  margin: 0.2em;\n",
       "  border-radius: 0.25em;\n",
       "  color: var(--sklearn-color-text);\n",
       "  /* unfitted */\n",
       "  background-color: var(--sklearn-color-unfitted-level-0);\n",
       "}\n",
       "\n",
       "#sk-container-id-21 div.sk-toggleable__content.fitted pre {\n",
       "  /* unfitted */\n",
       "  background-color: var(--sklearn-color-fitted-level-0);\n",
       "}\n",
       "\n",
       "#sk-container-id-21 input.sk-toggleable__control:checked~div.sk-toggleable__content {\n",
       "  /* Expand drop-down */\n",
       "  max-height: 200px;\n",
       "  max-width: 100%;\n",
       "  overflow: auto;\n",
       "}\n",
       "\n",
       "#sk-container-id-21 input.sk-toggleable__control:checked~label.sk-toggleable__label-arrow:before {\n",
       "  content: \"▾\";\n",
       "}\n",
       "\n",
       "/* Pipeline/ColumnTransformer-specific style */\n",
       "\n",
       "#sk-container-id-21 div.sk-label input.sk-toggleable__control:checked~label.sk-toggleable__label {\n",
       "  color: var(--sklearn-color-text);\n",
       "  background-color: var(--sklearn-color-unfitted-level-2);\n",
       "}\n",
       "\n",
       "#sk-container-id-21 div.sk-label.fitted input.sk-toggleable__control:checked~label.sk-toggleable__label {\n",
       "  background-color: var(--sklearn-color-fitted-level-2);\n",
       "}\n",
       "\n",
       "/* Estimator-specific style */\n",
       "\n",
       "/* Colorize estimator box */\n",
       "#sk-container-id-21 div.sk-estimator input.sk-toggleable__control:checked~label.sk-toggleable__label {\n",
       "  /* unfitted */\n",
       "  background-color: var(--sklearn-color-unfitted-level-2);\n",
       "}\n",
       "\n",
       "#sk-container-id-21 div.sk-estimator.fitted input.sk-toggleable__control:checked~label.sk-toggleable__label {\n",
       "  /* fitted */\n",
       "  background-color: var(--sklearn-color-fitted-level-2);\n",
       "}\n",
       "\n",
       "#sk-container-id-21 div.sk-label label.sk-toggleable__label,\n",
       "#sk-container-id-21 div.sk-label label {\n",
       "  /* The background is the default theme color */\n",
       "  color: var(--sklearn-color-text-on-default-background);\n",
       "}\n",
       "\n",
       "/* On hover, darken the color of the background */\n",
       "#sk-container-id-21 div.sk-label:hover label.sk-toggleable__label {\n",
       "  color: var(--sklearn-color-text);\n",
       "  background-color: var(--sklearn-color-unfitted-level-2);\n",
       "}\n",
       "\n",
       "/* Label box, darken color on hover, fitted */\n",
       "#sk-container-id-21 div.sk-label.fitted:hover label.sk-toggleable__label.fitted {\n",
       "  color: var(--sklearn-color-text);\n",
       "  background-color: var(--sklearn-color-fitted-level-2);\n",
       "}\n",
       "\n",
       "/* Estimator label */\n",
       "\n",
       "#sk-container-id-21 div.sk-label label {\n",
       "  font-family: monospace;\n",
       "  font-weight: bold;\n",
       "  display: inline-block;\n",
       "  line-height: 1.2em;\n",
       "}\n",
       "\n",
       "#sk-container-id-21 div.sk-label-container {\n",
       "  text-align: center;\n",
       "}\n",
       "\n",
       "/* Estimator-specific */\n",
       "#sk-container-id-21 div.sk-estimator {\n",
       "  font-family: monospace;\n",
       "  border: 1px dotted var(--sklearn-color-border-box);\n",
       "  border-radius: 0.25em;\n",
       "  box-sizing: border-box;\n",
       "  margin-bottom: 0.5em;\n",
       "  /* unfitted */\n",
       "  background-color: var(--sklearn-color-unfitted-level-0);\n",
       "}\n",
       "\n",
       "#sk-container-id-21 div.sk-estimator.fitted {\n",
       "  /* fitted */\n",
       "  background-color: var(--sklearn-color-fitted-level-0);\n",
       "}\n",
       "\n",
       "/* on hover */\n",
       "#sk-container-id-21 div.sk-estimator:hover {\n",
       "  /* unfitted */\n",
       "  background-color: var(--sklearn-color-unfitted-level-2);\n",
       "}\n",
       "\n",
       "#sk-container-id-21 div.sk-estimator.fitted:hover {\n",
       "  /* fitted */\n",
       "  background-color: var(--sklearn-color-fitted-level-2);\n",
       "}\n",
       "\n",
       "/* Specification for estimator info (e.g. \"i\" and \"?\") */\n",
       "\n",
       "/* Common style for \"i\" and \"?\" */\n",
       "\n",
       ".sk-estimator-doc-link,\n",
       "a:link.sk-estimator-doc-link,\n",
       "a:visited.sk-estimator-doc-link {\n",
       "  float: right;\n",
       "  font-size: smaller;\n",
       "  line-height: 1em;\n",
       "  font-family: monospace;\n",
       "  background-color: var(--sklearn-color-background);\n",
       "  border-radius: 1em;\n",
       "  height: 1em;\n",
       "  width: 1em;\n",
       "  text-decoration: none !important;\n",
       "  margin-left: 1ex;\n",
       "  /* unfitted */\n",
       "  border: var(--sklearn-color-unfitted-level-1) 1pt solid;\n",
       "  color: var(--sklearn-color-unfitted-level-1);\n",
       "}\n",
       "\n",
       ".sk-estimator-doc-link.fitted,\n",
       "a:link.sk-estimator-doc-link.fitted,\n",
       "a:visited.sk-estimator-doc-link.fitted {\n",
       "  /* fitted */\n",
       "  border: var(--sklearn-color-fitted-level-1) 1pt solid;\n",
       "  color: var(--sklearn-color-fitted-level-1);\n",
       "}\n",
       "\n",
       "/* On hover */\n",
       "div.sk-estimator:hover .sk-estimator-doc-link:hover,\n",
       ".sk-estimator-doc-link:hover,\n",
       "div.sk-label-container:hover .sk-estimator-doc-link:hover,\n",
       ".sk-estimator-doc-link:hover {\n",
       "  /* unfitted */\n",
       "  background-color: var(--sklearn-color-unfitted-level-3);\n",
       "  color: var(--sklearn-color-background);\n",
       "  text-decoration: none;\n",
       "}\n",
       "\n",
       "div.sk-estimator.fitted:hover .sk-estimator-doc-link.fitted:hover,\n",
       ".sk-estimator-doc-link.fitted:hover,\n",
       "div.sk-label-container:hover .sk-estimator-doc-link.fitted:hover,\n",
       ".sk-estimator-doc-link.fitted:hover {\n",
       "  /* fitted */\n",
       "  background-color: var(--sklearn-color-fitted-level-3);\n",
       "  color: var(--sklearn-color-background);\n",
       "  text-decoration: none;\n",
       "}\n",
       "\n",
       "/* Span, style for the box shown on hovering the info icon */\n",
       ".sk-estimator-doc-link span {\n",
       "  display: none;\n",
       "  z-index: 9999;\n",
       "  position: relative;\n",
       "  font-weight: normal;\n",
       "  right: .2ex;\n",
       "  padding: .5ex;\n",
       "  margin: .5ex;\n",
       "  width: min-content;\n",
       "  min-width: 20ex;\n",
       "  max-width: 50ex;\n",
       "  color: var(--sklearn-color-text);\n",
       "  box-shadow: 2pt 2pt 4pt #999;\n",
       "  /* unfitted */\n",
       "  background: var(--sklearn-color-unfitted-level-0);\n",
       "  border: .5pt solid var(--sklearn-color-unfitted-level-3);\n",
       "}\n",
       "\n",
       ".sk-estimator-doc-link.fitted span {\n",
       "  /* fitted */\n",
       "  background: var(--sklearn-color-fitted-level-0);\n",
       "  border: var(--sklearn-color-fitted-level-3);\n",
       "}\n",
       "\n",
       ".sk-estimator-doc-link:hover span {\n",
       "  display: block;\n",
       "}\n",
       "\n",
       "/* \"?\"-specific style due to the `<a>` HTML tag */\n",
       "\n",
       "#sk-container-id-21 a.estimator_doc_link {\n",
       "  float: right;\n",
       "  font-size: 1rem;\n",
       "  line-height: 1em;\n",
       "  font-family: monospace;\n",
       "  background-color: var(--sklearn-color-background);\n",
       "  border-radius: 1rem;\n",
       "  height: 1rem;\n",
       "  width: 1rem;\n",
       "  text-decoration: none;\n",
       "  /* unfitted */\n",
       "  color: var(--sklearn-color-unfitted-level-1);\n",
       "  border: var(--sklearn-color-unfitted-level-1) 1pt solid;\n",
       "}\n",
       "\n",
       "#sk-container-id-21 a.estimator_doc_link.fitted {\n",
       "  /* fitted */\n",
       "  border: var(--sklearn-color-fitted-level-1) 1pt solid;\n",
       "  color: var(--sklearn-color-fitted-level-1);\n",
       "}\n",
       "\n",
       "/* On hover */\n",
       "#sk-container-id-21 a.estimator_doc_link:hover {\n",
       "  /* unfitted */\n",
       "  background-color: var(--sklearn-color-unfitted-level-3);\n",
       "  color: var(--sklearn-color-background);\n",
       "  text-decoration: none;\n",
       "}\n",
       "\n",
       "#sk-container-id-21 a.estimator_doc_link.fitted:hover {\n",
       "  /* fitted */\n",
       "  background-color: var(--sklearn-color-fitted-level-3);\n",
       "}\n",
       "</style><div id=\"sk-container-id-21\" class=\"sk-top-container\"><div class=\"sk-text-repr-fallback\"><pre>KMeans(n_clusters=5, random_state=0)</pre><b>In a Jupyter environment, please rerun this cell to show the HTML representation or trust the notebook. <br />On GitHub, the HTML representation is unable to render, please try loading this page with nbviewer.org.</b></div><div class=\"sk-container\" hidden><div class=\"sk-item\"><div class=\"sk-estimator fitted sk-toggleable\"><input class=\"sk-toggleable__control sk-hidden--visually\" id=\"sk-estimator-id-21\" type=\"checkbox\" checked><label for=\"sk-estimator-id-21\" class=\"sk-toggleable__label fitted sk-toggleable__label-arrow fitted\">&nbsp;&nbsp;KMeans<a class=\"sk-estimator-doc-link fitted\" rel=\"noreferrer\" target=\"_blank\" href=\"https://scikit-learn.org/1.4/modules/generated/sklearn.cluster.KMeans.html\">?<span>Documentation for KMeans</span></a><span class=\"sk-estimator-doc-link fitted\">i<span>Fitted</span></span></label><div class=\"sk-toggleable__content fitted\"><pre>KMeans(n_clusters=5, random_state=0)</pre></div> </div></div></div></div>"
      ],
      "text/plain": [
       "KMeans(n_clusters=5, random_state=0)"
      ]
     },
     "execution_count": 264,
     "metadata": {},
     "output_type": "execute_result"
    }
   ],
   "source": [
    "# Generamos el modelo de agrupacion en grupos de 5 (K=5) \n",
    "Modelo = KMeans(n_clusters = 5, random_state = 0)\n",
    "Modelo.fit(Datos_usar)"
   ]
  },
  {
   "cell_type": "markdown",
   "id": "edcdc642-adb1-4caa-b4a1-1216088ac30b",
   "metadata": {},
   "source": [
    "<h3>Ahora agregamos a la base de datos la columna de \"Grupo_agrupamiento\" con el fin de evaluar a cual grupo pertenece el dato</h3>"
   ]
  },
  {
   "cell_type": "code",
   "execution_count": 266,
   "id": "d3209f27-e12e-4825-acd6-94cfaa2bc975",
   "metadata": {},
   "outputs": [
    {
     "name": "stdout",
     "output_type": "stream",
     "text": [
      "     Annual Income (k$)  Spending Score (1-100)  Grupo_agrupamiento\n",
      "0                    15                      39                   2\n",
      "1                    15                      81                   3\n",
      "2                    16                       6                   2\n",
      "3                    16                      77                   3\n",
      "4                    17                      40                   2\n",
      "..                  ...                     ...                 ...\n",
      "195                 120                      79                   1\n",
      "196                 126                      28                   4\n",
      "197                 126                      74                   1\n",
      "198                 137                      18                   4\n",
      "199                 137                      83                   1\n",
      "\n",
      "[200 rows x 3 columns]\n"
     ]
    }
   ],
   "source": [
    "# Agregamos la columna grupo a la base de datos con el fin de identificar el grupo de agrupamiento al que pertenece el dato\n",
    "Modelo.labels_\n",
    "Datos_usar[\"Grupo_agrupamiento\"] = Modelo.labels_\n",
    "print (Datos_usar)"
   ]
  },
  {
   "cell_type": "markdown",
   "id": "4878d736-330c-4657-bff2-f6298b197c08",
   "metadata": {},
   "source": [
    "<h3>Graficamos los datos pero ahora agrupados</h3>"
   ]
  },
  {
   "cell_type": "code",
   "execution_count": 268,
   "id": "bf284846-4c2b-44f6-93ce-a96bf30d6a3d",
   "metadata": {},
   "outputs": [
    {
     "data": {
      "image/png": "[encoded data removed]",
      "text/plain": [
       "<Figure size 640x480 with 1 Axes>"
      ]
     },
     "metadata": {},
     "output_type": "display_data"
    }
   ],
   "source": [
    "# Graficamos los datos ya clasificados en grupos\n",
    "plt.scatter(Datos_usar[\"Annual Income (k$)\"], Datos_usar[\"Spending Score (1-100)\"], c = Datos_usar[\"Grupo_agrupamiento\"], cmap = \"viridis\")\n",
    "plt.xlabel(\"Salario Anual\")\n",
    "plt.ylabel(\"Puntaje del Cliente Segun sus Compras\")\n",
    "plt.title(\"Grupos de Clientes\")\n",
    "plt.show()"
   ]
  },
  {
   "cell_type": "markdown",
   "id": "0b50a1ef-a6f8-4571-871a-90f9d635d361",
   "metadata": {},
   "source": [
    "<h2>Evaluación del modelo K - Means</h2>"
   ]
  },
  {
   "cell_type": "markdown",
   "id": "48cad636-d760-489d-b0a7-de773e2683e0",
   "metadata": {},
   "source": [
    "<h3>Procederemos a evaluar el modelo haciendo uso del coeficiente de silhouette, indice de Calinski Harabasz y el indice de Davies Bouldin</h3>"
   ]
  },
  {
   "cell_type": "code",
   "execution_count": 270,
   "id": "4377225d-a706-400e-ba81-3876208e670b",
   "metadata": {},
   "outputs": [
    {
     "name": "stdout",
     "output_type": "stream",
     "text": [
      "Coeficiente de Silhouette 0.553931997444648\n",
      "Indice de Calinski Harabasz 247.35899338037282\n",
      "Indice de Davies Bouldin 0.5725628995597086\n"
     ]
    }
   ],
   "source": [
    "# Evaluamos le modelo\n",
    "observaciones = len(Datos_usar)\n",
    "x = Datos_usar.drop(\"Grupo_agrupamiento\", axis = 1)\n",
    "clusters = Datos_usar[\"Grupo_agrupamiento\"]\n",
    "\n",
    "# Coeficiente de silhouette \n",
    "sil_score = silhouette_score(x, clusters)\n",
    "print(\"Coeficiente de Silhouette\", sil_score)\n",
    "\n",
    "# Indice de Calinski Harabasz\n",
    "calinski_score = calinski_harabasz_score(x, clusters)\n",
    "print(\"Indice de Calinski Harabasz\", calinski_score)\n",
    "\n",
    "# Indice de Davies Bouldin\n",
    "davies_score = davies_bouldin_score(x, clusters)\n",
    "print(\"Indice de Davies Bouldin\", davies_score)"
   ]
  },
  {
   "cell_type": "markdown",
   "id": "5984fa82-0d7b-4ade-bed0-b046fea16e62",
   "metadata": {},
   "source": [
    "<h1>Analisis de la evaluación del modelo K - Means</h1>"
   ]
  },
  {
   "cell_type": "markdown",
   "id": "6ba6f976-b275-4dac-a776-1f1a6404303f",
   "metadata": {},
   "source": [
    "<h2>Coeficiente de Silhouette</h2> \n",
    "<h4>Evalua la cantidad de los clusters, su cercania entre los datos y la separacion de los clusters o grupos.</h4>\n",
    "<h4>Los valores cercanos o iguales a 1 significa que los datos estan bien agrupados y alejados de otros clusters.</h4>\n",
    "<h4>Los valores cercanos o iguales a 0 significa que los datos estan en las fronteras entre los grupos o clusters.</h4>\n",
    "<h4>Valores negativos significa que los datos estan mal agrupados.</h4> \n",
    "<h4>En este caso el valor es 0.553931997444648, por tanto, los grupos estan bien formados, pero ahi datos no estan bien separados entre si </h4>\n"
   ]
  },
  {
   "cell_type": "markdown",
   "id": "08d1d349-36c8-42f8-b16b-725df6f78110",
   "metadata": {},
   "source": [
    "<h2>Indice de Calinski Harabasz</h2>\n",
    "<h4>Mide la calidad de los grupos y su relacion entre la dispersion de los datos dentro del grupo y el espacio entre los grupos o clusters.</h4>\n",
    "<h4>Los valores altos indican grupos bien definidos.</h4>\n",
    "<h4>En este caso el valor es de 247.35899338037282 y sugiere que ahi una buena separacion entre los grupos y agrupacion de los datos dentro de los grupos.</h4>"
   ]
  },
  {
   "cell_type": "markdown",
   "id": "bd7f8798-5ced-4d6f-8a99-5b8f1aa9fdc8",
   "metadata": {},
   "source": [
    "<h2>Indice de Davies Bouldin</h2>\n",
    "<h4>Mide la relacion entre la dispersion de los datos dentro de los grupos, este se calcula como promedio.</h4>\n",
    "<h4>Valores cercanos a cero 0 indica que los grupos estan bien compactos y la frontera de los grupos de datos estan bien separadas.</h4>\n",
    "<h4>En este caso el valor es de 0.5725628995597086 y sugiere que estan moderadamente separadas las fronteras de los grupos de datos.</h4>"
   ]
  },
  {
   "cell_type": "code",
   "execution_count": null,
   "id": "31425371-01bf-4d30-a2ec-bdfea7111e84",
   "metadata": {},
   "outputs": [],
   "source": []
  }
 ],
 "metadata": {
  "kernelspec": {
   "display_name": "Python 3 (ipykernel)",
   "language": "python",
   "name": "python3"
  },
  "language_info": {
   "codemirror_mode": {
    "name": "ipython",
    "version": 3
   },
   "file_extension": ".py",
   "mimetype": "text/x-python",
   "name": "python",
   "nbconvert_exporter": "python",
   "pygments_lexer": "ipython3",
   "version": "3.12.4"
  }
 },
 "nbformat": 4,
 "nbformat_minor": 5
}
